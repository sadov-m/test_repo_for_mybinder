{
 "cells": [
  {
   "cell_type": "code",
   "execution_count": 14,
   "metadata": {
    "ExecuteTime": {
     "end_time": "2021-05-29T10:46:42.551681Z",
     "start_time": "2021-05-29T10:46:42.523680Z"
    },
    "collapsed": true
   },
   "outputs": [],
   "source": [
    "def compute(array_delta, array_special):\n",
    "    if not (isinstance(array_delta, list) and isinstance(array_special, list)):\n",
    "        return \"Error: неправильный формат ввода\"\n",
    "    if len(array_delta) != len(array_special):\n",
    "        return \"Error: массивы не равны по длине\"\n",
    "\n",
    "    upper_part = 0.0\n",
    "    bottom_part = 0.0\n",
    "\n",
    "    # вычисляем числитель\n",
    "    #print(array_delta)\n",
    "    for i in range(len(array_delta)):\n",
    "        common_part = (1/array_delta[i])**2\n",
    "        #print(i, \"common_part\", common_part)\n",
    "        \n",
    "        upper_part += common_part*array_special[i]\n",
    "        bottom_part += common_part\n",
    "    \n",
    "    operational_margin = len(array_delta)**0.5/((bottom_part)**0.5)\n",
    "    \n",
    "    #print(upper_part, bottom_part)\n",
    "    return {\"результат\": upper_part/bottom_part,\n",
    "           \"погрешность\": operational_margin}"
   ]
  },
  {
   "cell_type": "code",
   "execution_count": 15,
   "metadata": {
    "ExecuteTime": {
     "end_time": "2021-05-29T10:46:43.111132Z",
     "start_time": "2021-05-29T10:46:43.099100Z"
    },
    "collapsed": true
   },
   "outputs": [],
   "source": [
    "list_delta = [0.0113, 0.01106, 0.01128, 0.00895, 0.00796,\n",
    "             0.01017, 0.01128, 0.01013, 0.00949, 0.00928]\n",
    "list_special = [1.34104, 1.36517, 1.34333, 1.33645, 1.3707,\n",
    "               1.288, 1.31111, 1.33333, 1.33666, 1.28856]"
   ]
  },
  {
   "cell_type": "code",
   "execution_count": 16,
   "metadata": {
    "ExecuteTime": {
     "end_time": "2021-05-29T10:46:44.433322Z",
     "start_time": "2021-05-29T10:46:44.421350Z"
    }
   },
   "outputs": [
    {
     "data": {
      "text/plain": [
       "{'погрешность': 0.009895629917573416, 'результат': 1.33266618302807}"
      ]
     },
     "execution_count": 16,
     "metadata": {},
     "output_type": "execute_result"
    }
   ],
   "source": [
    "compute(list_delta, list_special)"
   ]
  },
  {
   "cell_type": "markdown",
   "metadata": {},
   "source": [
    "## Среднеквадр. отклонение"
   ]
  },
  {
   "cell_type": "code",
   "execution_count": 17,
   "metadata": {
    "ExecuteTime": {
     "end_time": "2021-05-29T11:11:17.275200Z",
     "start_time": "2021-05-29T11:11:17.259219Z"
    },
    "collapsed": true
   },
   "outputs": [],
   "source": [
    "def compute_mean_and_mean_square_dev(array):\n",
    "    if not isinstance(array, list):\n",
    "        return \"Error: неправильный формат ввода\"\n",
    "    \n",
    "    mean = sum(array)/len(array)\n",
    "    \n",
    "    upper_part = 0.0\n",
    "    for i in range(len(array)):\n",
    "        upper_part += (array[i]-mean)**2\n",
    "    \n",
    "    bottom_part = len(array)*(len(array)-1)\n",
    "    return {\"среднее\": mean,\n",
    "            \"среднеквадр. отклонение\": (upper_part/bottom_part)**0.5}"
   ]
  },
  {
   "cell_type": "code",
   "execution_count": 18,
   "metadata": {
    "ExecuteTime": {
     "end_time": "2021-05-29T11:13:22.447928Z",
     "start_time": "2021-05-29T11:13:22.439914Z"
    },
    "collapsed": true
   },
   "outputs": [],
   "source": [
    "test_list = [19.2, 19.23, 19.33, 19.23, 19.25,\n",
    "       19.45, 19.37, 19.31, 19.43, 19.26]"
   ]
  },
  {
   "cell_type": "code",
   "execution_count": 19,
   "metadata": {
    "ExecuteTime": {
     "end_time": "2021-05-29T11:13:29.931347Z",
     "start_time": "2021-05-29T11:13:29.911307Z"
    }
   },
   "outputs": [
    {
     "data": {
      "text/plain": [
       "{'среднее': 19.306, 'среднеквадр. отклонение': 0.02765662468358865}"
      ]
     },
     "execution_count": 19,
     "metadata": {},
     "output_type": "execute_result"
    }
   ],
   "source": [
    "compute_mean_and_mean_square_dev(test_list)"
   ]
  },
  {
   "cell_type": "code",
   "execution_count": null,
   "metadata": {
    "collapsed": true
   },
   "outputs": [],
   "source": []
  }
 ],
 "metadata": {
  "kernelspec": {
   "display_name": "Python 3",
   "language": "python",
   "name": "python3"
  },
  "language_info": {
   "codemirror_mode": {
    "name": "ipython",
    "version": 3
   },
   "file_extension": ".py",
   "mimetype": "text/x-python",
   "name": "python",
   "nbconvert_exporter": "python",
   "pygments_lexer": "ipython3",
   "version": "3.6.2"
  }
 },
 "nbformat": 4,
 "nbformat_minor": 2
}
